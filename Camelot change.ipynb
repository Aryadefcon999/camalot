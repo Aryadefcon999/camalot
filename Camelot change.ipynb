{
 "cells": [
  {
   "cell_type": "code",
   "execution_count": null,
   "id": "6da8eb82",
   "metadata": {},
   "outputs": [],
   "source": [
    "pip install ghostscript"
   ]
  },
  {
   "cell_type": "code",
   "execution_count": null,
   "id": "f2aae01d",
   "metadata": {},
   "outputs": [],
   "source": [
    "import cv2 as cv"
   ]
  },
  {
   "cell_type": "code",
   "execution_count": null,
   "id": "bd0c5cad",
   "metadata": {},
   "outputs": [],
   "source": [
    "cv.__version__\n"
   ]
  },
  {
   "cell_type": "code",
   "execution_count": 2,
   "id": "749980fa",
   "metadata": {},
   "outputs": [
    {
     "data": {
      "text/plain": [
       "'0.10.1'"
      ]
     },
     "execution_count": 2,
     "metadata": {},
     "output_type": "execute_result"
    }
   ],
   "source": [
    "import camelot\n",
    "camelot.__version__"
   ]
  },
  {
   "cell_type": "code",
   "execution_count": 10,
   "id": "f482c088",
   "metadata": {},
   "outputs": [],
   "source": [
    "import pandas as pd"
   ]
  },
  {
   "cell_type": "code",
   "execution_count": 5,
   "id": "bca79bab",
   "metadata": {},
   "outputs": [],
   "source": [
    "tab=camelot.read_pdf(\"infosys-ar-22.pdf\",pages='126',flavor='stream')"
   ]
  },
  {
   "cell_type": "code",
   "execution_count": 8,
   "id": "780164ef",
   "metadata": {},
   "outputs": [
    {
     "data": {
      "text/plain": [
       "<Table shape=(18, 6)>"
      ]
     },
     "execution_count": 8,
     "metadata": {},
     "output_type": "execute_result"
    }
   ],
   "source": [
    "tab.export('infosys-ar-22.csv',f='csv',compress=True)\n",
    "tab[0]\n"
   ]
  },
  {
   "cell_type": "code",
   "execution_count": 9,
   "id": "5bf44f94",
   "metadata": {},
   "outputs": [
    {
     "data": {
      "text/plain": [
       "<Table shape=(18, 6)>"
      ]
     },
     "execution_count": 9,
     "metadata": {},
     "output_type": "execute_result"
    }
   ],
   "source": [
    "tab[0].to_csv('infosys-ar-22.csv')\n",
    "tab[0]"
   ]
  },
  {
   "cell_type": "code",
   "execution_count": 11,
   "id": "cb12fd23",
   "metadata": {},
   "outputs": [],
   "source": [
    "ef=pd.read_csv('infosys-ar-22.csv')"
   ]
  },
  {
   "cell_type": "code",
   "execution_count": 13,
   "id": "26c8d375",
   "metadata": {},
   "outputs": [
    {
     "data": {
      "text/html": [
       "<div>\n",
       "<style scoped>\n",
       "    .dataframe tbody tr th:only-of-type {\n",
       "        vertical-align: middle;\n",
       "    }\n",
       "\n",
       "    .dataframe tbody tr th {\n",
       "        vertical-align: top;\n",
       "    }\n",
       "\n",
       "    .dataframe thead th {\n",
       "        text-align: right;\n",
       "    }\n",
       "</style>\n",
       "<table border=\"1\" class=\"dataframe\">\n",
       "  <thead>\n",
       "    <tr style=\"text-align: right;\">\n",
       "      <th></th>\n",
       "      <th>transferred to the IEPF on the dates mentioned below:</th>\n",
       "      <th>Unnamed: 1</th>\n",
       "      <th>Unnamed: 2</th>\n",
       "      <th>Unnamed: 3</th>\n",
       "      <th>Unnamed: 4</th>\n",
       "      <th>Unnamed: 5</th>\n",
       "    </tr>\n",
       "  </thead>\n",
       "  <tbody>\n",
       "    <tr>\n",
       "      <th>0</th>\n",
       "      <td>Year</td>\n",
       "      <td>Type of dividend</td>\n",
       "      <td>Dividend per</td>\n",
       "      <td>Date of declaration</td>\n",
       "      <td>Due date</td>\n",
       "      <td>Amount (`)(2)</td>\n",
       "    </tr>\n",
       "    <tr>\n",
       "      <th>1</th>\n",
       "      <td>NaN</td>\n",
       "      <td>NaN</td>\n",
       "      <td>share (`)(1)</td>\n",
       "      <td>NaN</td>\n",
       "      <td>for transfer</td>\n",
       "      <td>NaN</td>\n",
       "    </tr>\n",
       "    <tr>\n",
       "      <th>2</th>\n",
       "      <td>2014-2015</td>\n",
       "      <td>Final</td>\n",
       "      <td>29.50</td>\n",
       "      <td>June 22, 2015</td>\n",
       "      <td>July 23, 2022</td>\n",
       "      <td>1,49,88,448</td>\n",
       "    </tr>\n",
       "    <tr>\n",
       "      <th>3</th>\n",
       "      <td>2015-2016</td>\n",
       "      <td>Interim</td>\n",
       "      <td>10.00</td>\n",
       "      <td>October 12, 2015</td>\n",
       "      <td>November 17, 2022</td>\n",
       "      <td>1,09,39,450</td>\n",
       "    </tr>\n",
       "    <tr>\n",
       "      <th>4</th>\n",
       "      <td>2015-2016</td>\n",
       "      <td>Final</td>\n",
       "      <td>14.25</td>\n",
       "      <td>June 18, 2016</td>\n",
       "      <td>July 17, 2023</td>\n",
       "      <td>1,60,31,777</td>\n",
       "    </tr>\n",
       "    <tr>\n",
       "      <th>5</th>\n",
       "      <td>2016-2017</td>\n",
       "      <td>Interim</td>\n",
       "      <td>11.00</td>\n",
       "      <td>October 14, 2016</td>\n",
       "      <td>November 19, 2023</td>\n",
       "      <td>1,36,91,843</td>\n",
       "    </tr>\n",
       "    <tr>\n",
       "      <th>6</th>\n",
       "      <td>2016-2017</td>\n",
       "      <td>Final</td>\n",
       "      <td>14.75</td>\n",
       "      <td>June 24, 2017</td>\n",
       "      <td>July 25, 2024</td>\n",
       "      <td>2,13,75,715</td>\n",
       "    </tr>\n",
       "    <tr>\n",
       "      <th>7</th>\n",
       "      <td>2017-2018</td>\n",
       "      <td>Interim</td>\n",
       "      <td>13.00</td>\n",
       "      <td>October 24, 2017</td>\n",
       "      <td>November 24, 2024</td>\n",
       "      <td>2,29,31,454</td>\n",
       "    </tr>\n",
       "    <tr>\n",
       "      <th>8</th>\n",
       "      <td>2017-2018</td>\n",
       "      <td>Final &amp; Special</td>\n",
       "      <td>30.50</td>\n",
       "      <td>June 23, 2018</td>\n",
       "      <td>July 24, 2025</td>\n",
       "      <td>4,67,85,135</td>\n",
       "    </tr>\n",
       "    <tr>\n",
       "      <th>9</th>\n",
       "      <td>2018-2019</td>\n",
       "      <td>Interim</td>\n",
       "      <td>7.00</td>\n",
       "      <td>October 16, 2018</td>\n",
       "      <td>November 14, 2025</td>\n",
       "      <td>2,03,15,499</td>\n",
       "    </tr>\n",
       "    <tr>\n",
       "      <th>10</th>\n",
       "      <td>2018-2019</td>\n",
       "      <td>Special</td>\n",
       "      <td>4.00</td>\n",
       "      <td>January 11, 2019</td>\n",
       "      <td>February 10, 2026</td>\n",
       "      <td>1,19,20,004</td>\n",
       "    </tr>\n",
       "    <tr>\n",
       "      <th>11</th>\n",
       "      <td>2018-2019</td>\n",
       "      <td>Final</td>\n",
       "      <td>10.50</td>\n",
       "      <td>June 22, 2019</td>\n",
       "      <td>July 21, 2026</td>\n",
       "      <td>2,81,47,445</td>\n",
       "    </tr>\n",
       "    <tr>\n",
       "      <th>12</th>\n",
       "      <td>2019-2020</td>\n",
       "      <td>Interim</td>\n",
       "      <td>8.00</td>\n",
       "      <td>October 11, 2019</td>\n",
       "      <td>November 11, 2026</td>\n",
       "      <td>2,40,78,793</td>\n",
       "    </tr>\n",
       "    <tr>\n",
       "      <th>13</th>\n",
       "      <td>2019-2020</td>\n",
       "      <td>Final</td>\n",
       "      <td>9.50</td>\n",
       "      <td>June 27, 2020</td>\n",
       "      <td>July 28, 2027</td>\n",
       "      <td>2,59,64,031</td>\n",
       "    </tr>\n",
       "    <tr>\n",
       "      <th>14</th>\n",
       "      <td>2020-2021</td>\n",
       "      <td>Interim</td>\n",
       "      <td>12.00</td>\n",
       "      <td>October 14, 2020</td>\n",
       "      <td>November 17, 2027</td>\n",
       "      <td>3,01,37,600</td>\n",
       "    </tr>\n",
       "    <tr>\n",
       "      <th>15</th>\n",
       "      <td>2020-2021</td>\n",
       "      <td>Final</td>\n",
       "      <td>15.00</td>\n",
       "      <td>June 19, 2021</td>\n",
       "      <td>July 20, 2028</td>\n",
       "      <td>3,43,90,416</td>\n",
       "    </tr>\n",
       "    <tr>\n",
       "      <th>16</th>\n",
       "      <td>2021-2022</td>\n",
       "      <td>Interim</td>\n",
       "      <td>15.00</td>\n",
       "      <td>October 13, 2021</td>\n",
       "      <td>November 16, 2028</td>\n",
       "      <td>3,92,80,980</td>\n",
       "    </tr>\n",
       "  </tbody>\n",
       "</table>\n",
       "</div>"
      ],
      "text/plain": [
       "   transferred to the IEPF on the dates mentioned below:        Unnamed: 1  \\\n",
       "0                                                Year     Type of dividend   \n",
       "1                                                 NaN                  NaN   \n",
       "2                                           2014-2015                Final   \n",
       "3                                           2015-2016              Interim   \n",
       "4                                           2015-2016                Final   \n",
       "5                                           2016-2017              Interim   \n",
       "6                                           2016-2017                Final   \n",
       "7                                           2017-2018              Interim   \n",
       "8                                           2017-2018      Final & Special   \n",
       "9                                           2018-2019              Interim   \n",
       "10                                          2018-2019              Special   \n",
       "11                                          2018-2019                Final   \n",
       "12                                          2019-2020              Interim   \n",
       "13                                          2019-2020                Final   \n",
       "14                                          2020-2021              Interim   \n",
       "15                                          2020-2021                Final   \n",
       "16                                          2021-2022              Interim   \n",
       "\n",
       "      Unnamed: 2           Unnamed: 3         Unnamed: 4     Unnamed: 5  \n",
       "0   Dividend per  Date of declaration           Due date  Amount (`)(2)  \n",
       "1   share (`)(1)                  NaN       for transfer            NaN  \n",
       "2          29.50        June 22, 2015      July 23, 2022    1,49,88,448  \n",
       "3          10.00     October 12, 2015  November 17, 2022    1,09,39,450  \n",
       "4          14.25        June 18, 2016      July 17, 2023    1,60,31,777  \n",
       "5          11.00     October 14, 2016  November 19, 2023    1,36,91,843  \n",
       "6          14.75        June 24, 2017      July 25, 2024    2,13,75,715  \n",
       "7          13.00     October 24, 2017  November 24, 2024    2,29,31,454  \n",
       "8          30.50        June 23, 2018      July 24, 2025    4,67,85,135  \n",
       "9           7.00     October 16, 2018  November 14, 2025    2,03,15,499  \n",
       "10          4.00     January 11, 2019  February 10, 2026    1,19,20,004  \n",
       "11         10.50        June 22, 2019      July 21, 2026    2,81,47,445  \n",
       "12          8.00     October 11, 2019  November 11, 2026    2,40,78,793  \n",
       "13          9.50        June 27, 2020      July 28, 2027    2,59,64,031  \n",
       "14         12.00     October 14, 2020  November 17, 2027    3,01,37,600  \n",
       "15         15.00        June 19, 2021      July 20, 2028    3,43,90,416  \n",
       "16         15.00     October 13, 2021  November 16, 2028    3,92,80,980  "
      ]
     },
     "execution_count": 13,
     "metadata": {},
     "output_type": "execute_result"
    }
   ],
   "source": [
    "ef"
   ]
  },
  {
   "cell_type": "code",
   "execution_count": null,
   "id": "3e78b2b7",
   "metadata": {},
   "outputs": [],
   "source": []
  }
 ],
 "metadata": {
  "kernelspec": {
   "display_name": "Python 3 (ipykernel)",
   "language": "python",
   "name": "python3"
  },
  "language_info": {
   "codemirror_mode": {
    "name": "ipython",
    "version": 3
   },
   "file_extension": ".py",
   "mimetype": "text/x-python",
   "name": "python",
   "nbconvert_exporter": "python",
   "pygments_lexer": "ipython3",
   "version": "3.9.12"
  }
 },
 "nbformat": 4,
 "nbformat_minor": 5
}
